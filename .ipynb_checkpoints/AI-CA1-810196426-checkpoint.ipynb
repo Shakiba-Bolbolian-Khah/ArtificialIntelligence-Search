{
 "cells": [
  {
   "cell_type": "markdown",
   "metadata": {},
   "source": [
    "# Informed and Uninformed Search Algorithms"
   ]
  },
  {
   "cell_type": "markdown",
   "metadata": {},
   "source": [
    "> ## Artificial Intelligence - CA1\n",
    "> ## Shakiba Bolbolian Khah - 810196426"
   ]
  },
  {
   "cell_type": "markdown",
   "metadata": {},
   "source": [
    "- **About**:\n",
    "\n",
    "In this assignment, to be familiar with different search methods and their time and space complexity, efficiency ,etc is the major point. Through a defined problem, 3 major search algorithms are going to be implemented: BFS, IDS(or IDDFS) and A*.\n",
    "\n",
    "\n",
    "- **Problem Modeling**:\n",
    "\n",
    "The most important issue in search problem is components modeling. In this problem we have a plan of city per each step. Plan consists of an ambulance, some patients, some hospitals, and some obstacles(all of them except restaurant can be 0 or more. It depends on the state.). According to time ans space issue, it is vital to model search components in the best way. The way we chose to model these, came below:\n",
    "\n",
    "\n",
    "> **1.Initial State**:\n",
    "> It is clear that initial state is the map which is given as input. The way of saving data structure, came later.\n",
    ">\n",
    ">**2.Actions**:\n",
    ">Going uo, down, right and left are only allowed actions which we can take if possible. It means that some situations may prevent us from taking special action in special state, like walls, obstacles, etc.\n",
    ">\n",
    ">**3.Transition Model**:\n",
    ">After determining initial state and actions, we should be able to switch from one state to another by actions. So we need a transition model. In this problem, we defined a function which decides based on the current state and selected action to go to another state. It checks all conditions and apply proper changes on current state to reach next one. To explain more, consider a state in which ambulance('A'), a patient('P'), and a hospital with capacity 2 (shown with number 2) are came one after each other('A' 'P' 1). It is obvious that by taking a Right action we can transfer patient to the hospital. Defined transmition model in this situation, change location of 'A' from (i,j) to (i+1,j), remove 'P' from data structure and decrease hospital capacity to 1. As well as this, it checks all other conditions according to the comments written for each one in their functions.\n",
    ">\n",
    ">**4.Goal State**:\n",
    ">to transfer all patients to hospitals is our goal in this problem. Clearly it is the state in which there is no patients. As soon as we reach this, problem is finished.\n",
    ">\n",
    ">**5.Path Cost**:\n",
    ">In this problem switching between state does not cause cost for us, however it is better to reach goal state in minimum time and minimum number of states we should visit, and it depends on search algorithm and implementation.\n",
    "\n",
    "\n",
    "- **Data Structure**:\n",
    "\n",
    "We mentioned dictionary as used data structure used for modeling before, to talk about details It will be noticable that initial state will be read from file and stored in a dictionary. In order to save space, walls around the city and empty cells have not been saved in dictionary. It just consist of locations of obstacles, hospitals, patients, and ambulance. Locations of obstacles and patients are mapped to character '#' and 'P'. For hospitals, their locations are mapped to their capacity (type 'int'). It helps us to update state way easier when a petient has been transfered to hospital. hospital's capacity decreases by 1 and if equals to 0, hospital will be erased from dictionary. At last for ease of access, character 'A' is mapped to ambulance's location in order to find in complexity O(1)."
   ]
  },
  {
   "cell_type": "markdown",
   "metadata": {},
   "source": [
    "- **State Initialization**:\n",
    "\n",
    "As mentioned before, this function initializes the initial state by reading input from file and saving it in defined data structure."
   ]
  },
  {
   "cell_type": "code",
   "execution_count": 1,
   "metadata": {},
   "outputs": [],
   "source": [
    "from collections import deque\n",
    "actions = ['U','R','D','L']\n",
    "null = 0\n",
    "cityWidth = 0\n",
    "cityHeight = 0\n",
    "\n",
    "def initiateState(fileName):\n",
    "    city = [line.rstrip('\\n') for line in open(fileName)]\n",
    "    initialState = {}\n",
    "    for j in range(1,len(city)-1):\n",
    "        for i in range(1,len(city[j])-1):\n",
    "            temp = city[j][i]\n",
    "            if(temp.isdigit()):\n",
    "                initialState[(i,j)] = int(temp)\n",
    "            elif(temp == 'A'):\n",
    "                initialState['A'] = (i,j)\n",
    "            elif(temp != ' '):\n",
    "                initialState[(i,j)] = temp\n",
    "    global cityWidth \n",
    "    cityWidth = len(city[0]) -1\n",
    "    global cityHeight \n",
    "    cityHeight = len(city) - 1\n",
    "    return initialState "
   ]
  },
  {
   "cell_type": "markdown",
   "metadata": {},
   "source": [
    "- **Transition Model**:\n",
    "\n",
    "Depends on actions, four functions are defined to handle the process of updating the state. UpdateState function calls each of them based on action."
   ]
  },
  {
   "cell_type": "code",
   "execution_count": 2,
   "metadata": {},
   "outputs": [],
   "source": [
    "def handleUpAction(currentState):\n",
    "    currentLoc = currentState['A']\n",
    "    i = currentLoc[0]\n",
    "    j = currentLoc[1]\n",
    "    if((i,j-1) in currentState):\n",
    "        nextCell = currentState[(i,j-1)]\n",
    "        if(nextCell == '#'): #Above is obstacle\n",
    "            return null\n",
    "        elif(nextCell == 'P'):\n",
    "            if(j>2):\n",
    "                if((i,j-2) in currentState): \n",
    "                    nextTwoCell = currentState[(i,j-2)]\n",
    "                    if(nextTwoCell == '#' or nextTwoCell == 'P'): \n",
    "                        return null #Above is patient. Two cells above is obstacle or patient\n",
    "                    else: #Abpve is patient. Two cells above is hospital\n",
    "                        currentState['A'] = (i,j-1)\n",
    "                        del(currentState[(i,j-1)])\n",
    "                        if(nextTwoCell-1 == 0):\n",
    "                            del(currentState[(i,j-2)])\n",
    "                        else:\n",
    "                            currentState[(i,j-2)] -= 1                                \n",
    "                        return currentState\n",
    "                else: #Above is patient. Two cells up is empty\n",
    "                    currentState['A'] = (i,j-1)\n",
    "                    currentState[(i,j-2)] = 'P'\n",
    "                    del(currentState[(i,j-1)])\n",
    "                    return currentState\n",
    "            else: #Above is patient. Two cells above is obstacle\n",
    "                return null\n",
    "        else: #Above is hospital. There is no patient with us\n",
    "            currentState['A'] = (i,j-1)\n",
    "            return currentState\n",
    "    elif(j>1): #Above is free\n",
    "        currentState['A'] = (i,j-1)\n",
    "        return currentState\n",
    "    else: #Above is wall\n",
    "        return null    "
   ]
  },
  {
   "cell_type": "code",
   "execution_count": 3,
   "metadata": {},
   "outputs": [],
   "source": [
    "def handleDownAction(currentState):\n",
    "    currentLoc = currentState['A']\n",
    "    i = currentLoc[0]\n",
    "    j = currentLoc[1]\n",
    "    if((i,j+1) in currentState):\n",
    "        nextCell = currentState[(i,j+1)]\n",
    "        if(nextCell == '#'): #Below is obstacle\n",
    "            return null\n",
    "        elif(nextCell == 'P'):\n",
    "            if(j < cityHeight -2):\n",
    "                if((i,j+2) in currentState): \n",
    "                    nextTwoCell = currentState[(i,j+2)]\n",
    "                    if(nextTwoCell == '#' or nextTwoCell == 'P'): \n",
    "                        return null #Below is patient. Two cells below is obstacle or patient\n",
    "                    else: #Below is patient. Two cells below is hospital\n",
    "                        currentState['A'] = (i,j+1)\n",
    "                        del(currentState[(i,j+1)])\n",
    "                        if(nextTwoCell-1 == 0):\n",
    "                            del(currentState[(i,j+2)])\n",
    "                        else:\n",
    "                            currentState[(i,j+2)] -= 1                                \n",
    "                        return currentState\n",
    "                else: #below is patient. Two cells below is empty\n",
    "                    currentState['A'] = (i,j+1)\n",
    "                    currentState[(i,j+2)] = 'P'\n",
    "                    del(currentState[(i,j+1)])\n",
    "                    return currentState\n",
    "            else: #below is patient. Two cells below is obstacle\n",
    "                return null\n",
    "        else: #below is hospital. There is no patient with us\n",
    "            currentState['A'] = (i,j+1)\n",
    "            return currentState\n",
    "    elif(j < cityHeight -1): #below is free\n",
    "        currentState['A'] = (i,j+1)\n",
    "        return currentState\n",
    "    else: #below is wall\n",
    "        return null "
   ]
  },
  {
   "cell_type": "code",
   "execution_count": 4,
   "metadata": {},
   "outputs": [],
   "source": [
    "def handleLeftAction(currentState):\n",
    "    currentLoc = currentState['A']\n",
    "    i = currentLoc[0]\n",
    "    j = currentLoc[1]\n",
    "    if((i-1,j) in currentState):\n",
    "        nextCell = currentState[(i-1,j)]\n",
    "        if(nextCell == '#'): #Left is obstacle\n",
    "            return null\n",
    "        elif(nextCell == 'P'):\n",
    "            if(i > 2):\n",
    "                if((i-2,j) in currentState): \n",
    "                    nextTwoCell = currentState[(i-2,j)]\n",
    "                    if(nextTwoCell == '#' or nextTwoCell == 'P'): \n",
    "                        return null #Left is patient. Two cells left is obstacle or patient\n",
    "                    else: #Left is patient. Two cells left is hospital\n",
    "                        currentState['A'] = (i-1,j)\n",
    "                        del(currentState[(i-1,j)])\n",
    "                        if(nextTwoCell-1 == 0):\n",
    "                            del(currentState[(i-2,j)])\n",
    "                        else:\n",
    "                            currentState[(i-2,j)] -= 1                                \n",
    "                        return currentState\n",
    "                else: #Left is patient. Two cells left is empty\n",
    "                    currentState['A'] = (i-1,j)\n",
    "                    currentState[(i-2,j)] = 'P'\n",
    "                    del(currentState[(i-1,j)])\n",
    "                    return currentState\n",
    "            else: #Left is patient. Two cells left is obstacle\n",
    "                return null\n",
    "        else: #Left is hospital. There is no patient with us\n",
    "            currentState['A'] = (i-1,j)\n",
    "            return currentState\n",
    "    elif(i>1): #Left is free\n",
    "        currentState['A'] = (i-1,j)\n",
    "        return currentState\n",
    "    else: #Left is wall\n",
    "        return null "
   ]
  },
  {
   "cell_type": "code",
   "execution_count": 5,
   "metadata": {},
   "outputs": [],
   "source": [
    "def handleRightAction(currentState):\n",
    "    currentLoc = currentState['A']\n",
    "    i = currentLoc[0]\n",
    "    j = currentLoc[1]\n",
    "    if((i+1,j) in currentState):\n",
    "        nextCell = currentState[(i+1,j)]\n",
    "        if(nextCell == '#'): #Right is obstacle\n",
    "            return null\n",
    "        elif(nextCell == 'P'):\n",
    "            if(i < cityWidth - 2):\n",
    "                if((i+2,j) in currentState): \n",
    "                    nextTwoCell = currentState[(i+2,j)]\n",
    "                    if(nextTwoCell == '#' or nextTwoCell == 'P'): \n",
    "                        return null #Right is patient. Two cells Right is obstacle or patient\n",
    "                    else: #Right is patient. Two cells Right is hospital\n",
    "                        currentState['A'] = (i+1,j)\n",
    "                        del(currentState[(i+1,j)])\n",
    "                        if(nextTwoCell-1 == 0):\n",
    "                            del(currentState[(i+2,j)])\n",
    "                        else:\n",
    "                            currentState[(i+2,j)] -= 1                                \n",
    "                        return currentState\n",
    "                else: #Right is patient. Two cells right is empty\n",
    "                    currentState['A'] = (i+1,j)\n",
    "                    currentState[(i+2,j)] = 'P'\n",
    "                    del(currentState[(i+1,j)])\n",
    "                    return currentState\n",
    "            else: #Right is patient. Two cells right is obstacle\n",
    "                return null\n",
    "        else: #Right is hospital. There is no patient with us\n",
    "            currentState['A'] = (i+1,j)\n",
    "            return currentState\n",
    "    elif(i < cityWidth - 1): #Right is free\n",
    "        currentState['A'] = (i+1,j)\n",
    "        return currentState\n",
    "    else: #Right is wall\n",
    "        return null "
   ]
  },
  {
   "cell_type": "code",
   "execution_count": 6,
   "metadata": {},
   "outputs": [],
   "source": [
    "def updateState(currentState, direction):\n",
    "    if(direction == 'U'):\n",
    "        return handleUpAction(currentState)\n",
    "    elif(direction == 'R'):\n",
    "        return handleRightAction(currentState)\n",
    "    elif(direction == 'D'):\n",
    "        return handleDownAction(currentState)\n",
    "    else:\n",
    "        return handleLeftAction(currentState)    "
   ]
  },
  {
   "cell_type": "markdown",
   "metadata": {},
   "source": [
    "- **Functionality Test**:\n",
    "\n",
    "In order to print states to check correctness of algorithm, printState is defined."
   ]
  },
  {
   "cell_type": "code",
   "execution_count": 7,
   "metadata": {},
   "outputs": [],
   "source": [
    "def printState(s):\n",
    "    for j in range(cityHeight+1):\n",
    "        for i in range(cityWidth+1):\n",
    "            if (i,j) in s:\n",
    "                print(s[(i,j)], end=\"\")\n",
    "            elif s['A'] == (i,j):\n",
    "                print('A', end =\"\")\n",
    "            else:\n",
    "                print(' ', end=\"\")\n",
    "        print('\\n')"
   ]
  },
  {
   "cell_type": "markdown",
   "metadata": {},
   "source": [
    "### Breadth First Search(BFS)"
   ]
  },
  {
   "cell_type": "markdown",
   "metadata": {},
   "source": [
    "- **Implementation**:\n",
    "\n",
    "As well as BFS algorithm pseducode, its implementation came below. To explain more about data structures, it would be notable that set and dictionary data structure in Python are way faster than lists. In this case, we have to save states in frontier as FIFO, so there is no choice to use list. During each iteration, first element will removed from list and after considering all actions, will be saved in explored. Since explored variable should not be saved in special way, we can save states in a set,but dictionary data type in Python is not hashable. Because of that we save hash(frozenset(state.items()) in explored. By this way we face a significant reduction of time and space.\n",
    "\n",
    "- **Pros and Cons**:\n",
    "\n",
    ">1.BFS does need more space than DFS and IDS, and we want the closest answer to the root.\n",
    ">\n",
    ">2.Compared to IDS, it is much faster and uses more space.\n",
    ">\n",
    ">3.Compared to A* search, it visits more states to reach the goal. The better heuristic we have, the less time A* takes.\n",
    ">\n",
    "\n",
    "- **Test Cases**:\n",
    "\n",
    "According to discription, we ran each test case 3 times and calculated average time. The result came below:\n",
    "\n",
    "||Depth of Answer | Seen States | Seperate States | Average Time |\n",
    "|--- | --- | --- | --- | --- |\n",
    "| Test Case 1 | 11 |1658 | 416 | 4.45 ms|\n",
    "| Test Case 2 | 27 |36886 | 9223 | 126.66 ms|\n",
    "| Test Case 3 | 39 |113411|28354 | 522 ms|\n",
    "\n",
    "\n"
   ]
  },
  {
   "cell_type": "code",
   "execution_count": 8,
   "metadata": {},
   "outputs": [],
   "source": [
    "def BFS(start):\n",
    "    initialState = initiateState(start)\n",
    "    explored = set()\n",
    "    frontier = []\n",
    "    seenStates = 1\n",
    "    distinctSeenStates = 1\n",
    "    frontier.append((initialState,0))\n",
    "    if(not('P' in initialState.values())):\n",
    "        return {'seen state': seenStates, 'distinct seen states': distinctSeenStates, 'search depth': level}\n",
    "    while(frontier):\n",
    "        node, level = frontier.pop(0)\n",
    "        if(hash(frozenset(node.items())) in explored):\n",
    "            continue\n",
    "        explored.add(hash(frozenset(node.items())))\n",
    "        distinctSeenStates += 1\n",
    "        for action in actions:\n",
    "            seenStates += 1\n",
    "            child = updateState(node.copy(),action)\n",
    "            if(child != null):\n",
    "                if(not('P' in node.values())):\n",
    "                    return {'seen state': seenStates, 'distinct seen states': distinctSeenStates, 'search depth': level}\n",
    "                frontier.append((child,level+1))\n",
    "    return null"
   ]
  },
  {
   "cell_type": "markdown",
   "metadata": {},
   "source": [
    "### Iterative Deepening Search(IDS)"
   ]
  },
  {
   "cell_type": "markdown",
   "metadata": {},
   "source": [
    "- **Implementation**:\n",
    "\n",
    "As well as IDS algorithm pseducode, its implementation came below. We need to implement DFS for limited depth first and for every depth less than input limit we run DFS function. Any time we reach goal state, number of seperate states, seen states and current level will be returned. However DFS algorithm can be implemented in recursive way, we chose non recursive way to gain time efficiency. Data structures are chosen lije BFS algorithm.\n",
    "\n",
    "- **Pros and Cons**:\n",
    "\n",
    ">1.As mentioned BFS needs more space than DFS and can not be a proper choice any time. On the other hand, DFS algorithm searches through one adjacent node of root first. In some situation answer is very close to root, but we reach it late. As a result, IDS ,a combination of DFS and BFS, uses less space than BFS and reach close nodes sooner than DFS.\n",
    ">\n",
    ">2.Compared to BFS, it would be slower and usually visits way more states.\n",
    ">\n",
    ">3.Compared to A* search, it visits more states to reach the goal and takes more time.\n",
    ">\n",
    "\n",
    "- **Test Cases**:\n",
    "\n",
    "According to discription, we ran each test case 3 times and calculated average time. The result came below:\n",
    "\n",
    "||Depth of Answer | Seen States | Seperate States | Average Time |\n",
    "|--- | --- | --- | --- | --- |\n",
    "| Test Case 1 | 11 |1223 | 306 | 15.06 ms|\n",
    "| Test Case 2 | 27 |113861 | 28466 | 2.23 s|\n",
    "| Test Case 3 | 39 |486050| 121513 | 11.76 s|\n",
    "\n"
   ]
  },
  {
   "cell_type": "code",
   "execution_count": 9,
   "metadata": {
    "scrolled": false
   },
   "outputs": [],
   "source": [
    "def DFS(currentState, limit):\n",
    "    seenStates = 0\n",
    "    distinctSeenStates = 0\n",
    "    explored = {}\n",
    "    frontier = [(currentState,0)]\n",
    "    while(frontier):\n",
    "        node, level = frontier.pop()\n",
    "        if( hash(frozenset(node.items())) in explored and explored[hash(frozenset(node.items()))]<= level):\n",
    "            continue\n",
    "        explored[hash(frozenset(node.items()))] = level\n",
    "        distinctSeenStates += 1\n",
    "        for action in actions:\n",
    "            seenStates += 1\n",
    "            child = updateState(node.copy(),action)\n",
    "            if(child != null):\n",
    "                if(not('P' in child.values())):\n",
    "                    return {'seen state': seenStates, 'distinct seen states': distinctSeenStates, 'search depth': level+1}\n",
    "                if(limit-level > 1):\n",
    "                    frontier.append((child,level+1))\n",
    "    return null\n",
    "  \n",
    "def IDS(maxDepth, start):\n",
    "    initialState = initiateState(start)\n",
    "    for limit in range(maxDepth):\n",
    "        result = DFS(initialState.copy(), limit)\n",
    "        if(result != null):\n",
    "            return(result)\n",
    "    return null "
   ]
  },
  {
   "cell_type": "markdown",
   "metadata": {},
   "source": [
    "### A* Search"
   ]
  },
  {
   "cell_type": "markdown",
   "metadata": {},
   "source": [
    "- **Implementation**:\n",
    "\n",
    "As well as A* algorithm pseducode, its implementation came below. A* search algorithm is a combination of BFS and Greedy Best First. BFS algorithm visits all adjacents, however A* visits states with minimun cost f which is defined like below:\n",
    "\n",
    "> $f(n) = g(n) + h(n)$\n",
    ">\n",
    ">$g(n): cost \\;so\\; far \\;to \\;reach \\;n \\;(path\\; cost)$\n",
    ">\n",
    ">$h(n): estimated \\;cost \\;from \\;n \\;to \\;goal \\;(heuristic)$\n",
    "\n",
    "So it finds shortest path just like BFS but fast like Greedy Best First. Its time complexity is dependent to heuristic function we define and data structures we use. In order to save output heuristic and actual cost for each state, we have a dictionary for frontier from hash(frozenset(state.items()) to f(state) and a dictionary for actual cost from hash(frozenset(state.items()) to g(state). However we should have access to states. A dictionary from hash of every state to its original helps us. Finally, similar to before, we have a set for explored nodes. Because of data structures we used, time complexity is a little high.\n",
    "\n",
    "- **Pros and Cons**:\n",
    "\n",
    ">1.As mentioned A* is better because selects state in a smart way(based on heuristic)\n",
    ">\n",
    ">2.Compared to BFS, it visits way less states.\n",
    ">\n",
    ">3.Compared to IDS search, it visits way less states to reach the goal and takes less time.\n",
    ">\n",
    ">4.However it would be optimal when selected heuristic is admissible.\n"
   ]
  },
  {
   "cell_type": "markdown",
   "metadata": {},
   "source": [
    "#### First Heuristic"
   ]
  },
  {
   "cell_type": "markdown",
   "metadata": {},
   "source": [
    "- **Implementation**:\n",
    "\n",
    "In this heuristic, we are looking for a state in which distance from ambulance to patient + distance from patient to closest hospital is minimum. By this way we update a state in which we can transfer one of its patients to hospital sooner than other states. So we may reach goal sooner.\n",
    "This heuristic is admissible but because it considers just one of patients, it is not very clever.\n",
    "\n",
    "> - Proof of Admissibility:\n",
    ">\n",
    "> >We know that the shortest distance between two point is straight line between them. When ambulance wants to transfer closest patient to a hospital, first should walk a distance (which at least equals to straight line) and then travel a distance from patient location to closest hospital (which again at least equals to straight line between patient and a hospital). This cost is always less than real cost for reaching goal, except when we have one patient and ambulance, hospital and patint are all in one line. In this situation, heuristic equals to shortest path. So first heuristic is admissible.\n",
    "\n",
    "\n",
    "- **Test Cases**:\n",
    "\n",
    "According to discription, we ran each test case 3 times and calculated average time. The result came below:\n",
    "\n",
    "||Depth of Answer | Seen States | Seperate States | Average Time |\n",
    "|--- | --- | --- | --- | --- |\n",
    "| Test Case 1 | 11 |482 | 167 | 5.77 ms|\n",
    "| Test Case 2 | 27 |19140 | 7580 | 1.24 s|\n",
    "| Test Case 3 | 39 |54631|19854 | 7.98 s|\n"
   ]
  },
  {
   "cell_type": "code",
   "execution_count": 10,
   "metadata": {
    "scrolled": true
   },
   "outputs": [],
   "source": [
    "import math\n",
    "def firstHeuristic(currentState):\n",
    "    patients = [k for k,v in currentState.items() if v == 'P']\n",
    "    hospitals = [k for k,v in currentState.items() if isinstance(v,int)]\n",
    "    location = currentState['A']\n",
    "    minDis = float('inf')\n",
    "    for p in patients:\n",
    "        toPatient = math.sqrt(pow(location[0]-p[0],2)+pow(location[1]-p[1],2))-1 \n",
    "        for h in hospitals:\n",
    "            toHospital = toPatient + math.sqrt(pow(p[0]-h[0],2)+pow(p[1]-h[1],2))\n",
    "            if(toHospital < minDis):\n",
    "                minDis = toHospital\n",
    "    return minDis    "
   ]
  },
  {
   "cell_type": "markdown",
   "metadata": {},
   "source": [
    "#### Second Heuristic"
   ]
  },
  {
   "cell_type": "markdown",
   "metadata": {},
   "source": [
    "- **Implementation**:\n",
    "\n",
    "In this heuristic,  we consider ${d}_{hi}$ as minimum distance between patient ${P}_{i}$ and closest hospital. We also consider ${d}_{A}$ as minimum distance between ambulance amnd one of patients. We are looking for a state in which $TotalDistance$ ,as defined below, has minimum value.\n",
    "\n",
    "    $TotalDistance = {d}_{h1} + {d}_{h2} + \\ldots + {d}_{hn} + {d}_{A}$\n",
    "    \n",
    "This heuristic considers more aspects of problem and also is admissible. As a result, time complexity would not be as much as previous one.\n",
    "\n",
    "> - Proof of Admissibility:\n",
    ">\n",
    "> >We know that the shortest distance between two point is straight line between them. If we need to transfer all patients to hospitals, we at least need walk the distance between each patient and closest hospital to it. So sum of all these distances will always be less or equals to the cost we pay to transfer all patients to hospitals (If we ignore th cost for distance between ambulance and patients). More over that, in current situation, we at least need once to reach closest patient and transfer him. So we must consider least distance between ambulance and patients. This cost is obviously less than actual cost, except the time we have one patient which is in a same row or column with ambulance and hospital.\n",
    "As a result, heuristic is admissible.\n",
    "\n",
    "\n",
    "- **Test Cases**:\n",
    "\n",
    "According to discription, we ran each test case 3 times and calculated average time. The result came below:\n",
    "\n",
    "||Depth of Answer | Seen States | Seperate States | Average Time |\n",
    "|--- | --- | --- | --- | --- |\n",
    "| Test Case 1 | 11 |321 | 111 | 4.04 ms|\n",
    "| Test Case 2 | 27 |10837 | 4218 | 596.6 ms|\n",
    "| Test Case 3 | 39 |29118| 10605 | 2.94 s|\n"
   ]
  },
  {
   "cell_type": "code",
   "execution_count": 11,
   "metadata": {},
   "outputs": [],
   "source": [
    "def secondHeuristic(currentState):\n",
    "    patients = [k for k,v in currentState.items() if v == 'P']\n",
    "    hospitals = [k for k,v in currentState.items() if isinstance(v,int)]\n",
    "    location = currentState['A']\n",
    "    totalDis = 0\n",
    "    minDisToP = float('inf')\n",
    "    for p in patients:\n",
    "        toPatient = math.sqrt(pow(location[0]-p[0],2)+pow(location[1]-p[1],2))-1\n",
    "        if(toPatient < minDisToP):\n",
    "            minDisToP = toPatient\n",
    "        minDis = float('inf')\n",
    "        for h in hospitals:\n",
    "            toHospital = math.sqrt(pow(p[0]-h[0],2)+pow(p[1]-h[1],2))\n",
    "            if(toHospital < minDis):\n",
    "                minDis = toHospital\n",
    "        totalDis += minDis\n",
    "    totalDis += minDisToP\n",
    "    return totalDis"
   ]
  },
  {
   "cell_type": "markdown",
   "metadata": {},
   "source": [
    "#### Heuristics Analysis"
   ]
  },
  {
   "cell_type": "markdown",
   "metadata": {},
   "source": [
    "As mentioned before, first heuristic does not consider all aspects and because of that its choices are not always very clever. Number of seen states (and also seperate ones) decrease significantly compared to IDS and BFS, but it is not optimal.\n",
    "On the other hand second heuristic considers different factors. So number of states is way less than previous one so too time complexity."
   ]
  },
  {
   "cell_type": "code",
   "execution_count": 12,
   "metadata": {},
   "outputs": [],
   "source": [
    "def AStar(start):\n",
    "    seenStates = 0\n",
    "    distinctSeenStates = 0\n",
    "    initialState = initiateState(start)\n",
    "    if(not('P' in initialState.values())):\n",
    "        printState(initialState)\n",
    "        return \"done\"\n",
    "    \n",
    "    frontier = {}\n",
    "    states = {}\n",
    "    explored = set()\n",
    "    actualCost = {}\n",
    "    \n",
    "    hashNode = hash(frozenset(initialState.items()))\n",
    "    actualCost[hashNode] = 0\n",
    "    frontier[hashNode] = secondHeuristic(initialState)\n",
    "    states[hashNode] = (initialState,0)\n",
    "    \n",
    "    while(frontier):\n",
    "        distinctSeenStates+=1\n",
    "        hashNode = min(frontier.keys(), key=(lambda k: frontier[k]))\n",
    "        node, level = states[hashNode]\n",
    "        nodeCost = actualCost[hashNode]\n",
    "        explored.add(hashNode)\n",
    "        del frontier[hashNode]\n",
    "        for action in actions:\n",
    "            child = updateState(node.copy(),action)\n",
    "            if child!= null:\n",
    "                seenStates += 1\n",
    "                if(not('P' in child.values())):\n",
    "                    return {'seen state': seenStates, 'distinct seen states': distinctSeenStates, 'search depth': level+1}\n",
    "                childCost = nodeCost + 1\n",
    "                hashChild = hash(frozenset(child.items()))\n",
    "                if(hashChild not in frontier and hashChild not in explored):\n",
    "                    frontier[hashChild] = childCost + secondHeuristic(child)\n",
    "                actualCost[hashChild] = childCost\n",
    "                states[hashChild] = (child, level+1)\n",
    "    return null"
   ]
  },
  {
   "cell_type": "markdown",
   "metadata": {},
   "source": [
    "#### Output Sample"
   ]
  },
  {
   "cell_type": "markdown",
   "metadata": {},
   "source": [
    "Below came output of BFS, IDS, and A*(with second hwuristic) algorithm as samples."
   ]
  },
  {
   "cell_type": "code",
   "execution_count": 13,
   "metadata": {},
   "outputs": [
    {
     "name": "stdout",
     "output_type": "stream",
     "text": [
      "{'seen state': 1658, 'distinct seen states': 416, 'search depth': 11}\n",
      "CPU times: user 4.87 ms, sys: 82 µs, total: 4.96 ms\n",
      "Wall time: 4.72 ms\n"
     ]
    }
   ],
   "source": [
    "%%time\n",
    "print(BFS('test1.txt'))"
   ]
  },
  {
   "cell_type": "code",
   "execution_count": 14,
   "metadata": {},
   "outputs": [
    {
     "name": "stdout",
     "output_type": "stream",
     "text": [
      "{'seen state': 1223, 'distinct seen states': 306, 'search depth': 11}\n",
      "CPU times: user 15.1 ms, sys: 0 ns, total: 15.1 ms\n",
      "Wall time: 14.8 ms\n"
     ]
    }
   ],
   "source": [
    "%%time\n",
    "print(IDS(40,'test1.txt'))"
   ]
  },
  {
   "cell_type": "code",
   "execution_count": 15,
   "metadata": {},
   "outputs": [
    {
     "name": "stdout",
     "output_type": "stream",
     "text": [
      "{'seen state': 326, 'distinct seen states': 113, 'search depth': 11}\n",
      "CPU times: user 5.22 ms, sys: 114 µs, total: 5.33 ms\n",
      "Wall time: 5.05 ms\n"
     ]
    }
   ],
   "source": [
    "%%time\n",
    "print(AStar('test1.txt'))"
   ]
  },
  {
   "cell_type": "markdown",
   "metadata": {},
   "source": [
    "### Conclusion"
   ]
  },
  {
   "cell_type": "markdown",
   "metadata": {},
   "source": [
    "To talk about uninformed search and its algorithm, we should always consider our need. If we can support high space complexity, BFS can lead us to the result soon (depend on graph) with shortest path. However if space is a matter, IDS can be helpful. Although it is slower than BFS and visits way more states.\n",
    "On the other hand, we can take advantage of informed search algorithms like A*. By this way, we do not need to visit all possible states anymore and be able to choose based on heuristic. However to have an admissible and clever heuristic leads us to reach optimal solution and we should consider these conditions. As well as this, to use best data structure is vital too.\n",
    "\n",
    "To summarize, we can say:\n",
    "> - **BFS**:\n",
    "> > 1.High number of visited states\n",
    "> >\n",
    "> > 2.Good time complexity (fast)\n",
    "> >\n",
    "> > 3.High space complexity\n",
    "> - **IDS**:\n",
    "> > 1.Very high number of visited states\n",
    "> >\n",
    "> > 2.Not very good time complexity (slower than others)\n",
    "> >\n",
    "> > 3.Good space complexity\n",
    "> - __A*__:\n",
    "> > 1.Low number of visited states\n",
    "> >\n",
    "> > 2.Good time complexity (it depends!-optimal soultion-)\n",
    "> >\n",
    "> > 3.High space complexity (exponential)"
   ]
  }
 ],
 "metadata": {
  "kernelspec": {
   "display_name": "Python 3",
   "language": "python",
   "name": "python3"
  },
  "language_info": {
   "codemirror_mode": {
    "name": "ipython",
    "version": 3
   },
   "file_extension": ".py",
   "mimetype": "text/x-python",
   "name": "python",
   "nbconvert_exporter": "python",
   "pygments_lexer": "ipython3",
   "version": "3.5.2"
  }
 },
 "nbformat": 4,
 "nbformat_minor": 4
}
